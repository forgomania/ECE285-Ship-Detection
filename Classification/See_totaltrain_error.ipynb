{
 "cells": [
  {
   "cell_type": "code",
   "execution_count": 1,
   "metadata": {},
   "outputs": [],
   "source": [
    "import numpy as np # linear algebra\n",
    "import pandas as pd # data processing, CSV file I/O (e.g. pd.read_csv)\n",
    "from skimage.data import imread\n",
    "import matplotlib.pyplot as plt\n",
    "import torch.nn as nn \n",
    "import torch.nn.functional as F\n",
    "from torchvision import transforms\n",
    "\n",
    "# Input data files are available in the \"../input/\" directory.\n",
    "# For example, running this (by clicking run or pressing Shift+Enter) will list the files in the input directory\n",
    "from PIL import Image\n",
    "import os\n",
    "import torch\n",
    "from inceptionresnetv2.pytorch_load import InceptionResnetV2\n",
    "from pathlib import Path"
   ]
  },
  {
   "cell_type": "code",
   "execution_count": 2,
   "metadata": {},
   "outputs": [
    {
     "name": "stdout",
     "output_type": "stream",
     "text": [
      "using device: cuda\n"
     ]
    }
   ],
   "source": [
    "USE_GPU = True\n",
    "\n",
    "dtype = torch.float32 # we will be using float throughout this tutorial\n",
    "# the default is gpu but if gpu is not available,then use cpu\n",
    "if USE_GPU and torch.cuda.is_available():\n",
    "    device = torch.device('cuda')\n",
    "else:\n",
    "    device = torch.device('cpu')\n",
    "\n",
    "# Constant to control how frequently we print train loss\n",
    "print_every = 100\n",
    "# show which device to use\n",
    "print('using device:', device)\n",
    "\n",
    "ship_dir = '/datasets/ee285f-public/airbus_ship_detection/'\n",
    "train_image_dir = os.path.join(ship_dir, 'train_v2')\n",
    "test_image_dir = os.path.join(ship_dir, 'test_v2')"
   ]
  },
  {
   "cell_type": "code",
   "execution_count": 3,
   "metadata": {},
   "outputs": [],
   "source": [
    "label = pd.read_csv('train_ship_label.csv')\n",
    "\n",
    "np_la = label.values\n",
    "np_train = np_la[:,0]\n",
    "total = len(np_train)\n",
    "np_label = np_la[:,2]\n"
   ]
  },
  {
   "cell_type": "code",
   "execution_count": 4,
   "metadata": {},
   "outputs": [
    {
     "name": "stdout",
     "output_type": "stream",
     "text": [
      "192556\n"
     ]
    }
   ],
   "source": [
    "print(total)\n",
    "#dtype = 'FloatTensor'\n",
    "def normalize_MNIST_images(x):\n",
    "    return 2 * x.astype(np.float64) / 255. - 1"
   ]
  },
  {
   "cell_type": "code",
   "execution_count": null,
   "metadata": {},
   "outputs": [],
   "source": []
  },
  {
   "cell_type": "code",
   "execution_count": 5,
   "metadata": {},
   "outputs": [],
   "source": [
    "net = InceptionResnetV2().cuda()\n",
    "criterion = nn.CrossEntropyLoss()\n"
   ]
  },
  {
   "cell_type": "code",
   "execution_count": 6,
   "metadata": {},
   "outputs": [
    {
     "data": {
      "text/plain": [
       "'\\nimport torchvision.models as models\\nresnet18 = models.resnet18()\\nnet = resnet18.cuda()\\n'"
      ]
     },
     "execution_count": 6,
     "metadata": {},
     "output_type": "execute_result"
    }
   ],
   "source": [
    "'''\n",
    "import torchvision.models as models\n",
    "resnet18 = models.resnet18()\n",
    "net = resnet18.cuda()\n",
    "'''"
   ]
  },
  {
   "cell_type": "code",
   "execution_count": 7,
   "metadata": {},
   "outputs": [
    {
     "name": "stdout",
     "output_type": "stream",
     "text": [
      "load succerssful\n",
      "12035\n"
     ]
    }
   ],
   "source": [
    "model_path = Path('InceptionResnetV2.1.tnt')\n",
    "gamma = 1e-5\n",
    "optimizer = torch.optim.Adam(net.parameters(), lr=gamma )\n",
    "if model_path.exists():\n",
    "    net = torch.load(str(model_path))\n",
    "    print('load succerssful')\n",
    "\n",
    "#optimizer = torch.optim.SGD(net.parameters(), lr=gamma , momentum=0.9)\n",
    "batch_size = 16\n",
    "epoch = 3\n",
    "load_flag = 0\n",
    "NB = (total+batch_size-1)//batch_size\n",
    "print(NB)\n",
    "false = 0"
   ]
  },
  {
   "cell_type": "code",
   "execution_count": null,
   "metadata": {
    "scrolled": true
   },
   "outputs": [],
   "source": [
    "false_0 = 0\n",
    "false_1 = 0\n",
    "size = 299,299\n",
    "for e in range(1):\n",
    "    loss_epoch = 0\n",
    "    i=0\n",
    "    '''\n",
    "    with open('accurracy_0.log', 'r') as f:\n",
    "        if load_flag ==0:\n",
    "            false_0 = int(f.read())\n",
    "    with open('accurracy_1.log', 'r') as f:\n",
    "        if load_flag ==0:\n",
    "            false_1 = int(f.read())\n",
    "    with open('test_his.log', 'r') as f:\n",
    "        if load_flag ==0:\n",
    "            i = int(f.read())\n",
    "            load_flag = 1\n",
    "    '''\n",
    "    \n",
    "    while i < NB:\n",
    "\n",
    "        x = torch.zeros([batch_size,3,299,299])\n",
    "        y = torch.zeros([batch_size])\n",
    "        #idx = np.arange(i*batch_size:(i+1)*batch_size)\n",
    "        for j in range(batch_size):\n",
    "\n",
    "            try:\n",
    "                img = Image.open(os.path.join(train_image_dir,np_train[(i-1)*batch_size+j]))\n",
    "                #img = Image.open(os.path.join(train_image_dir,np_train[j]))\n",
    "                img.thumbnail(size)\n",
    "                x[j] = transforms.ToTensor()(img)\n",
    "                y[j] = np_label[(i-1)*batch_size+j]\n",
    "                #y[j] = np_label[j]\n",
    "            \n",
    "            \n",
    "            except:\n",
    "                print(np_train[j])\n",
    "        #np.savez('save\\input_'+str(i)+'.npz',inpu = x)\n",
    "\n",
    "        #print(im)\n",
    "        inpu = x.to(device=device, dtype=dtype)  \n",
    "\n",
    "        ltemp = y.to(device=device, dtype=torch.long)\n",
    "        optimizer.zero_grad()\n",
    "        output = net.forward(inpu)\n",
    "        #print(output)\n",
    "        scores = nn.functional.softmax(output,dim = 1)\n",
    "        \n",
    "        for n in range(batch_size):\n",
    "            if scores[n,0]>scores[n,1] and ltemp[n]==1:\n",
    "                with open('FP_all.log', 'a') as f:\n",
    "                    f.write(np_train[(i-1)*batch_size+n]+',')\n",
    "            elif scores[n,0]<scores[n,1] and ltemp[n]==0:\n",
    "                with open('FN_all.log', 'a') as f:\n",
    "                    f.write(np_train[(i-1)*batch_size+n]+',')\n",
    "                \n",
    "        #output = torch.exp(output)\n",
    "        #output = output/torch.sum(output,1) \n",
    "        #print(output,scores,ltemp)\n",
    "        #loss = criterion(scores,ltemp)\n",
    "        #loss = sum((scores[:,1]-ltemp)**2)\n",
    "        #print(i,false)\n",
    "        #print(scores,ltemp)\n",
    "        #loss.backward()\n",
    "        # Parameter update \n",
    "        #optimizer.step()\n",
    "        #if i%100 == 0:\n",
    "            #print(i,loss)\n",
    "        '''\n",
    "        if i%100 ==0:\n",
    "            \n",
    "            with open('accurracy_0.log', 'w') as f:\n",
    "                f.write(str(false_0))\n",
    "            with open('accurracy_1.log', 'w') as f:\n",
    "                f.write(str(false_1))\n",
    "                \n",
    "            with open('test_his.log', 'w') as f:\n",
    "                f.write(str(i))\n",
    "            print('save successful')\n",
    "        '''\n",
    "            \n",
    "        i +=1\n",
    "    print(loss_epoch/NB)"
   ]
  },
  {
   "cell_type": "code",
   "execution_count": null,
   "metadata": {},
   "outputs": [],
   "source": [
    "net.state_dict()"
   ]
  },
  {
   "cell_type": "code",
   "execution_count": null,
   "metadata": {},
   "outputs": [],
   "source": [
    "\n"
   ]
  }
 ],
 "metadata": {
  "kernelspec": {
   "display_name": "Python 3",
   "language": "python",
   "name": "python3"
  },
  "language_info": {
   "codemirror_mode": {
    "name": "ipython",
    "version": 3
   },
   "file_extension": ".py",
   "mimetype": "text/x-python",
   "name": "python",
   "nbconvert_exporter": "python",
   "pygments_lexer": "ipython3",
   "version": "3.6.4"
  }
 },
 "nbformat": 4,
 "nbformat_minor": 2
}
